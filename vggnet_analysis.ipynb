{
 "cells": [
  {
   "cell_type": "markdown",
   "metadata": {},
   "source": [
    "\n",
    "# Result Analysis on VGGNet"
   ]
  },
  {
   "cell_type": "code",
   "execution_count": 1,
   "metadata": {},
   "outputs": [
    {
     "name": "stderr",
     "output_type": "stream",
     "text": [
      "Using TensorFlow backend.\n"
     ]
    }
   ],
   "source": [
    "import pandas as pd\n",
    "import numpy as np\n",
    "\n",
    "import dataset\n",
    "import evaluate\n",
    "import metric\n",
    "import util\n",
    "import vggnet\n",
    "import visualize"
   ]
  },
  {
   "cell_type": "markdown",
   "metadata": {},
   "source": [
    "## Training"
   ]
  },
  {
   "cell_type": "markdown",
   "metadata": {},
   "source": [
    "Let's train a model that takes in all body parts first.\n",
    "The model use a 16 layer VGGNet with 3 colour channels. All weights are randomly initialized. It uses Adom optimizer with \n",
    "    beta_1=0.9, beta_2=0.999, epsilon=None, decay=0, amsgrad=False\n",
    "\n",
    "Image perturbation includes:\n",
    "    featurewise_center=True,\n",
    "    featurewise_std_normalization=True,\n",
    "    rotation_range=30,\n",
    "    fill_mode=\"constant\",\n",
    "    cval=0,\n",
    "    horizontal_flip=True\n",
    "    \n",
    "All images are resized to 224*224 px"
   ]
  },
  {
   "cell_type": "code",
   "execution_count": null,
   "metadata": {
    "scrolled": false
   },
   "outputs": [
    {
     "name": "stdout",
     "output_type": "stream",
     "text": [
      "****** Building Model\n",
      "****** Preparing Input\n",
      "****** Preparing ImageDataGenerator\n",
      "****** Starting Training: 12-32-22\n",
      "Found 36808 images belonging to 2 classes.\n",
      "Epoch 1/100\n",
      " - 1388s - loss: 0.6691 - binary_accuracy: 0.5963 - batch_recall: 0.0121 - global_recall: 0.0118 - global_kappa: 0.0054 - val_loss: 4.1157 - val_binary_accuracy: 0.5224 - val_batch_recall: 0.0549 - val_global_recall: 0.0974 - val_global_kappa: 0.0085\n",
      "Epoch 2/100\n",
      " - 826s - loss: 0.6513 - binary_accuracy: 0.6115 - batch_recall: 0.1646 - global_recall: 0.1641 - global_kappa: 0.0892 - val_loss: 4.3481 - val_binary_accuracy: 0.5321 - val_batch_recall: 0.2129 - val_global_recall: 0.3556 - val_global_kappa: 0.0447\n",
      "Epoch 3/100\n",
      " - 1798s - loss: 0.6271 - binary_accuracy: 0.6475 - batch_recall: 0.3509 - global_recall: 0.3533 - global_kappa: 0.2152 - val_loss: 4.2384 - val_binary_accuracy: 0.5874 - val_batch_recall: 0.3737 - val_global_recall: 0.6268 - val_global_kappa: 0.1750\n",
      "Epoch 4/100\n",
      " - 1026s - loss: 0.6010 - binary_accuracy: 0.6789 - batch_recall: 0.4063 - global_recall: 0.4054 - global_kappa: 0.2878 - val_loss: 3.9685 - val_binary_accuracy: 0.6372 - val_batch_recall: 0.3136 - val_global_recall: 0.5275 - val_global_kappa: 0.2679\n",
      "Epoch 5/100\n",
      " - 519s - loss: 0.5834 - binary_accuracy: 0.6968 - batch_recall: 0.4334 - global_recall: 0.4346 - global_kappa: 0.3294 - val_loss: 3.9678 - val_binary_accuracy: 0.6350 - val_batch_recall: 0.3237 - val_global_recall: 0.5405 - val_global_kappa: 0.2635\n",
      "Epoch 6/100\n",
      " - 503s - loss: 0.5705 - binary_accuracy: 0.7082 - batch_recall: 0.4522 - global_recall: 0.4523 - global_kappa: 0.3554 - val_loss: 3.7664 - val_binary_accuracy: 0.6509 - val_batch_recall: 0.2688 - val_global_recall: 0.4641 - val_global_kappa: 0.2897\n",
      "Epoch 7/100\n",
      " - 508s - loss: 0.5599 - binary_accuracy: 0.7151 - batch_recall: 0.4653 - global_recall: 0.4665 - global_kappa: 0.3722 - val_loss: 4.1089 - val_binary_accuracy: 0.6512 - val_batch_recall: 0.2758 - val_global_recall: 0.4621 - val_global_kappa: 0.2909\n",
      "Epoch 8/100\n",
      " - 509s - loss: 0.5517 - binary_accuracy: 0.7239 - batch_recall: 0.4804 - global_recall: 0.4809 - global_kappa: 0.3920 - val_loss: 3.9064 - val_binary_accuracy: 0.6831 - val_batch_recall: 0.2801 - val_global_recall: 0.4725 - val_global_kappa: 0.3532\n",
      "Epoch 9/100\n",
      " - 518s - loss: 0.5423 - binary_accuracy: 0.7333 - batch_recall: 0.5000 - global_recall: 0.4984 - global_kappa: 0.4138 - val_loss: 3.6326 - val_binary_accuracy: 0.6835 - val_batch_recall: 0.3417 - val_global_recall: 0.5771 - val_global_kappa: 0.3608\n",
      "Epoch 10/100\n",
      " - 519s - loss: 0.5357 - binary_accuracy: 0.7371 - batch_recall: 0.5044 - global_recall: 0.5033 - global_kappa: 0.4222 - val_loss: 4.0963 - val_binary_accuracy: 0.6678 - val_batch_recall: 0.2887 - val_global_recall: 0.4850 - val_global_kappa: 0.3212\n",
      "Epoch 11/100\n",
      " - 504s - loss: 0.5306 - binary_accuracy: 0.7403 - batch_recall: 0.5151 - global_recall: 0.5151 - global_kappa: 0.4312 - val_loss: 4.0795 - val_binary_accuracy: 0.6838 - val_batch_recall: 0.2665 - val_global_recall: 0.4477 - val_global_kappa: 0.3515\n",
      "Epoch 12/100\n",
      " - 513s - loss: 0.5252 - binary_accuracy: 0.7444 - batch_recall: 0.5212 - global_recall: 0.5213 - global_kappa: 0.4398 - val_loss: 4.5534 - val_binary_accuracy: 0.6569 - val_batch_recall: 0.2205 - val_global_recall: 0.3824 - val_global_kappa: 0.2946\n",
      "Epoch 13/100\n",
      " - 498s - loss: 0.5212 - binary_accuracy: 0.7481 - batch_recall: 0.5304 - global_recall: 0.5294 - global_kappa: 0.4484 - val_loss: 4.5258 - val_binary_accuracy: 0.6462 - val_batch_recall: 0.2086 - val_global_recall: 0.3680 - val_global_kappa: 0.2726\n",
      "Epoch 14/100\n",
      " - 519s - loss: 0.5165 - binary_accuracy: 0.7507 - batch_recall: 0.5368 - global_recall: 0.5359 - global_kappa: 0.4549 - val_loss: 3.6243 - val_binary_accuracy: 0.6850 - val_batch_recall: 0.3772 - val_global_recall: 0.6425 - val_global_kappa: 0.3673\n",
      "Epoch 15/100\n",
      " - 504s - loss: 0.5131 - binary_accuracy: 0.7529 - batch_recall: 0.5399 - global_recall: 0.5408 - global_kappa: 0.4604 - val_loss: 4.7270 - val_binary_accuracy: 0.6425 - val_batch_recall: 0.1957 - val_global_recall: 0.3386 - val_global_kappa: 0.2636\n",
      "Epoch 16/100\n",
      " - 519s - loss: 0.5067 - binary_accuracy: 0.7569 - batch_recall: 0.5512 - global_recall: 0.5525 - global_kappa: 0.4701 - val_loss: 3.8576 - val_binary_accuracy: 0.6897 - val_batch_recall: 0.3024 - val_global_recall: 0.5150 - val_global_kappa: 0.3663\n",
      "Epoch 17/100\n",
      " - 494s - loss: 0.5049 - binary_accuracy: 0.7590 - batch_recall: 0.5581 - global_recall: 0.5577 - global_kappa: 0.4752 - val_loss: 3.6406 - val_binary_accuracy: 0.6903 - val_batch_recall: 0.3018 - val_global_recall: 0.5131 - val_global_kappa: 0.3675\n",
      "Epoch 18/100\n",
      " - 503s - loss: 0.5028 - binary_accuracy: 0.7604 - batch_recall: 0.5615 - global_recall: 0.5608 - global_kappa: 0.4781 - val_loss: 3.9952 - val_binary_accuracy: 0.6938 - val_batch_recall: 0.2673 - val_global_recall: 0.4523 - val_global_kappa: 0.3718\n",
      "Epoch 19/100\n",
      " - 503s - loss: 0.4984 - binary_accuracy: 0.7653 - batch_recall: 0.5656 - global_recall: 0.5657 - global_kappa: 0.4888 - val_loss: 4.1789 - val_binary_accuracy: 0.6797 - val_batch_recall: 0.2619 - val_global_recall: 0.4405 - val_global_kappa: 0.3430\n",
      "Epoch 20/100\n",
      " - 519s - loss: 0.4948 - binary_accuracy: 0.7663 - batch_recall: 0.5762 - global_recall: 0.5759 - global_kappa: 0.4931 - val_loss: 3.4257 - val_binary_accuracy: 0.7097 - val_batch_recall: 0.3441 - val_global_recall: 0.5843 - val_global_kappa: 0.4110\n",
      "Epoch 21/100\n",
      " - 495s - loss: 0.4914 - binary_accuracy: 0.7695 - batch_recall: 0.5810 - global_recall: 0.5813 - global_kappa: 0.5002 - val_loss: 3.7426 - val_binary_accuracy: 0.6969 - val_batch_recall: 0.3047 - val_global_recall: 0.5183 - val_global_kappa: 0.3808\n",
      "Epoch 22/100\n",
      " - 503s - loss: 0.4869 - binary_accuracy: 0.7714 - batch_recall: 0.5864 - global_recall: 0.5877 - global_kappa: 0.5045 - val_loss: 3.6847 - val_binary_accuracy: 0.6925 - val_batch_recall: 0.3085 - val_global_recall: 0.5248 - val_global_kappa: 0.3742\n",
      "Epoch 23/100\n",
      " - 520s - loss: 0.4838 - binary_accuracy: 0.7742 - batch_recall: 0.5965 - global_recall: 0.5958 - global_kappa: 0.5115 - val_loss: 3.8934 - val_binary_accuracy: 0.7069 - val_batch_recall: 0.2875 - val_global_recall: 0.4889 - val_global_kappa: 0.4009\n",
      "Epoch 24/100\n",
      " - 518s - loss: 0.4806 - binary_accuracy: 0.7744 - batch_recall: 0.5920 - global_recall: 0.5929 - global_kappa: 0.5114 - val_loss: 3.5613 - val_binary_accuracy: 0.7232 - val_batch_recall: 0.3414 - val_global_recall: 0.5797 - val_global_kappa: 0.4383\n",
      "Epoch 25/100\n",
      " - 492s - loss: 0.4776 - binary_accuracy: 0.7785 - batch_recall: 0.6029 - global_recall: 0.6046 - global_kappa: 0.5214 - val_loss: 3.9187 - val_binary_accuracy: 0.6994 - val_batch_recall: 0.2898 - val_global_recall: 0.4876 - val_global_kappa: 0.3858\n",
      "Epoch 26/100\n",
      " - 504s - loss: 0.4756 - binary_accuracy: 0.7812 - batch_recall: 0.6054 - global_recall: 0.6064 - global_kappa: 0.5268 - val_loss: 3.6736 - val_binary_accuracy: 0.7094 - val_batch_recall: 0.3228 - val_global_recall: 0.5484 - val_global_kappa: 0.4089\n",
      "Epoch 27/100\n",
      " - 506s - loss: 0.4734 - binary_accuracy: 0.7814 - batch_recall: 0.6100 - global_recall: 0.6092 - global_kappa: 0.5276 - val_loss: 3.4426 - val_binary_accuracy: 0.7135 - val_batch_recall: 0.3435 - val_global_recall: 0.5869 - val_global_kappa: 0.4185\n",
      "Epoch 28/100\n",
      " - 490s - loss: 0.4682 - binary_accuracy: 0.7842 - batch_recall: 0.6156 - global_recall: 0.6171 - global_kappa: 0.5347 - val_loss: 4.0196 - val_binary_accuracy: 0.6753 - val_batch_recall: 0.2635 - val_global_recall: 0.4425 - val_global_kappa: 0.3344\n",
      "Epoch 29/100\n",
      " - 509s - loss: 0.4658 - binary_accuracy: 0.7861 - batch_recall: 0.6239 - global_recall: 0.6233 - global_kappa: 0.5392 - val_loss: 4.2239 - val_binary_accuracy: 0.6794 - val_batch_recall: 0.2455 - val_global_recall: 0.4150 - val_global_kappa: 0.3413\n",
      "Epoch 30/100\n",
      " - 501s - loss: 0.4619 - binary_accuracy: 0.7887 - batch_recall: 0.6269 - global_recall: 0.6262 - global_kappa: 0.5447 - val_loss: 3.6721 - val_binary_accuracy: 0.7144 - val_batch_recall: 0.3034 - val_global_recall: 0.5163 - val_global_kappa: 0.4171\n",
      "Epoch 31/100\n",
      " - 513s - loss: 0.4590 - binary_accuracy: 0.7904 - batch_recall: 0.6342 - global_recall: 0.6334 - global_kappa: 0.5494 - val_loss: 3.5524 - val_binary_accuracy: 0.7085 - val_batch_recall: 0.3035 - val_global_recall: 0.5150 - val_global_kappa: 0.4045\n"
     ]
    },
    {
     "name": "stdout",
     "output_type": "stream",
     "text": [
      "Epoch 32/100\n",
      " - 497s - loss: 0.4553 - binary_accuracy: 0.7935 - batch_recall: 0.6405 - global_recall: 0.6402 - global_kappa: 0.5560 - val_loss: 3.9487 - val_binary_accuracy: 0.7025 - val_batch_recall: 0.2652 - val_global_recall: 0.4497 - val_global_kappa: 0.3899\n",
      "Epoch 33/100\n",
      " - 501s - loss: 0.4539 - binary_accuracy: 0.7945 - batch_recall: 0.6394 - global_recall: 0.6397 - global_kappa: 0.5586 - val_loss: 3.6666 - val_binary_accuracy: 0.7063 - val_batch_recall: 0.2818 - val_global_recall: 0.4791 - val_global_kappa: 0.3999\n",
      "Epoch 34/100\n",
      " - 503s - loss: 0.4481 - binary_accuracy: 0.7965 - batch_recall: 0.6489 - global_recall: 0.6483 - global_kappa: 0.5630 - val_loss: 4.2597 - val_binary_accuracy: 0.6810 - val_batch_recall: 0.2360 - val_global_recall: 0.3974 - val_global_kappa: 0.3437\n",
      "Epoch 35/100\n",
      " - 527s - loss: 0.4466 - binary_accuracy: 0.7976 - batch_recall: 0.6481 - global_recall: 0.6487 - global_kappa: 0.5656 - val_loss: 3.5140 - val_binary_accuracy: 0.7091 - val_batch_recall: 0.3743 - val_global_recall: 0.6464 - val_global_kappa: 0.4115\n",
      "Epoch 36/100\n",
      " - 508s - loss: 0.4425 - binary_accuracy: 0.7993 - batch_recall: 0.6517 - global_recall: 0.6517 - global_kappa: 0.5694 - val_loss: 4.0353 - val_binary_accuracy: 0.6919 - val_batch_recall: 0.2617 - val_global_recall: 0.4418 - val_global_kappa: 0.3676\n",
      "Epoch 37/100\n",
      " - 567s - loss: 0.4390 - binary_accuracy: 0.8034 - batch_recall: 0.6602 - global_recall: 0.6592 - global_kappa: 0.5787 - val_loss: 3.9493 - val_binary_accuracy: 0.7091 - val_batch_recall: 0.2827 - val_global_recall: 0.4797 - val_global_kappa: 0.4056\n",
      "Epoch 38/100\n",
      " - 495s - loss: 0.4364 - binary_accuracy: 0.8038 - batch_recall: 0.6641 - global_recall: 0.6623 - global_kappa: 0.5798 - val_loss: 3.3882 - val_binary_accuracy: 0.7235 - val_batch_recall: 0.3331 - val_global_recall: 0.5654 - val_global_kappa: 0.4377\n",
      "Epoch 39/100\n",
      " - 514s - loss: 0.4320 - binary_accuracy: 0.8068 - batch_recall: 0.6677 - global_recall: 0.6691 - global_kappa: 0.5868 - val_loss: 3.5557 - val_binary_accuracy: 0.7144 - val_batch_recall: 0.3356 - val_global_recall: 0.5719 - val_global_kappa: 0.4192\n",
      "Epoch 40/100\n",
      " - 502s - loss: 0.4307 - binary_accuracy: 0.8078 - batch_recall: 0.6741 - global_recall: 0.6750 - global_kappa: 0.5892 - val_loss: 3.9328 - val_binary_accuracy: 0.7050 - val_batch_recall: 0.2702 - val_global_recall: 0.4582 - val_global_kappa: 0.3947\n",
      "Epoch 41/100\n",
      " - 495s - loss: 0.4259 - binary_accuracy: 0.8083 - batch_recall: 0.6725 - global_recall: 0.6729 - global_kappa: 0.5902 - val_loss: 3.7887 - val_binary_accuracy: 0.7188 - val_batch_recall: 0.3269 - val_global_recall: 0.5569 - val_global_kappa: 0.4280\n",
      "Epoch 42/100\n",
      " - 514s - loss: 0.4231 - binary_accuracy: 0.8103 - batch_recall: 0.6800 - global_recall: 0.6786 - global_kappa: 0.5945 - val_loss: 3.3702 - val_binary_accuracy: 0.7216 - val_batch_recall: 0.3512 - val_global_recall: 0.6013 - val_global_kappa: 0.4353\n",
      "Epoch 43/100\n",
      " - 535s - loss: 0.4194 - binary_accuracy: 0.8141 - batch_recall: 0.6846 - global_recall: 0.6850 - global_kappa: 0.6031 - val_loss: 3.5471 - val_binary_accuracy: 0.7207 - val_batch_recall: 0.3336 - val_global_recall: 0.5706 - val_global_kappa: 0.4323\n",
      "Epoch 44/100\n",
      " - 618s - loss: 0.4149 - binary_accuracy: 0.8185 - batch_recall: 0.6936 - global_recall: 0.6926 - global_kappa: 0.6126 - val_loss: 3.8972 - val_binary_accuracy: 0.7032 - val_batch_recall: 0.2848 - val_global_recall: 0.4837 - val_global_kappa: 0.3932\n",
      "Epoch 45/100\n",
      " - 515s - loss: 0.4137 - binary_accuracy: 0.8153 - batch_recall: 0.6868 - global_recall: 0.6880 - global_kappa: 0.6055 - val_loss: 3.7569 - val_binary_accuracy: 0.7138 - val_batch_recall: 0.3090 - val_global_recall: 0.5275 - val_global_kappa: 0.4175\n",
      "Epoch 46/100\n",
      " - 547s - loss: 0.4086 - binary_accuracy: 0.8198 - batch_recall: 0.6935 - global_recall: 0.6944 - global_kappa: 0.6155 - val_loss: 3.6681 - val_binary_accuracy: 0.7160 - val_batch_recall: 0.3338 - val_global_recall: 0.5660 - val_global_kappa: 0.4221\n",
      "Epoch 47/100\n",
      " - 508s - loss: 0.4051 - binary_accuracy: 0.8212 - batch_recall: 0.6989 - global_recall: 0.7015 - global_kappa: 0.6194 - val_loss: 3.6400 - val_binary_accuracy: 0.7094 - val_batch_recall: 0.3292 - val_global_recall: 0.5582 - val_global_kappa: 0.4106\n",
      "Epoch 48/100\n"
     ]
    }
   ],
   "source": [
    "history, model_path, result_path = vggnet.train(batch_size=32, learning_rate=0.00001, epochs=100)"
   ]
  },
  {
   "cell_type": "markdown",
   "metadata": {},
   "source": [
    "Now, load in the result and see how we perform"
   ]
  },
  {
   "cell_type": "code",
   "execution_count": null,
   "metadata": {},
   "outputs": [],
   "source": [
    "val_df = pd.read_csv(result_path)\n",
    "evaluate.evl_result(val_df)"
   ]
  },
  {
   "cell_type": "markdown",
   "metadata": {},
   "source": [
    "Both averaging or picking the max prediction score from each image of the same study achieves the better overall result. Apperantly having more images helps the model determing whether there is an abnormal.\n",
    "\n",
    "Interestingly, averaging the prediction score from each image of the same study achieves the best kappa. It does make sense however compare to the other aggregation, since averaging does not favor false positive or false negative."
   ]
  },
  {
   "cell_type": "markdown",
   "metadata": {},
   "source": [
    "## Visualization"
   ]
  },
  {
   "cell_type": "markdown",
   "metadata": {},
   "source": [
    "#### Attention"
   ]
  },
  {
   "cell_type": "code",
   "execution_count": null,
   "metadata": {},
   "outputs": [],
   "source": [
    "for _ in range(10):\n",
    "    visualize.plt_attention(model_path)"
   ]
  },
  {
   "cell_type": "markdown",
   "metadata": {},
   "source": [
    "#### Activation"
   ]
  },
  {
   "cell_type": "code",
   "execution_count": null,
   "metadata": {},
   "outputs": [],
   "source": [
    "visualize.plt_activation(model_path)"
   ]
  }
 ],
 "metadata": {
  "kernelspec": {
   "display_name": "mura",
   "language": "python",
   "name": "mura"
  },
  "language_info": {
   "codemirror_mode": {
    "name": "ipython",
    "version": 3
   },
   "file_extension": ".py",
   "mimetype": "text/x-python",
   "name": "python",
   "nbconvert_exporter": "python",
   "pygments_lexer": "ipython3",
   "version": "3.6.3"
  }
 },
 "nbformat": 4,
 "nbformat_minor": 2
}
